{
 "cells": [
  {
   "cell_type": "markdown",
   "metadata": {},
   "source": [
    "## Introduction\n",
    "this code allows convertion of a list of word stored in rtf format to csv list \n",
    "the csv will have a column called character, a column called pinyin and column called english \n",
    "the csv list could be copied and pasted to https://quizlet.com/\n",
    "Shan was using her magic8 email for free tier\n"
   ]
  },
  {
   "cell_type": "markdown",
   "metadata": {},
   "source": [
    "这是为小朋友学习马力平中文准备的。在quizlet里面你可以选择使用图片来增强孩子的记忆。"
   ]
  },
  {
   "cell_type": "code",
   "execution_count": 29,
   "metadata": {},
   "outputs": [],
   "source": [
    "#!pip install pypinyin\n"
   ]
  },
  {
   "cell_type": "markdown",
   "metadata": {},
   "source": [
    "Download the CC-CEDICT Dictionary:\n",
    "\n",
    "The CC-CEDICT is a comprehensive Chinese-English dictionary in text format. Download the latest version from the CC-CEDICT project page:\n",
    "\n",
    "CC-CEDICT Project: https://cc-cedict.org/editor/editor.php\n",
    "After downloading, extract the file (typically named cedict_ts.u8) to a known directory.\n",
    "https://cc-cedict.org/editor/editor.php?handler=Downloadm"
   ]
  },
  {
   "cell_type": "markdown",
   "metadata": {},
   "source": [
    "#Parse the CC-CEDICT Dictionary:\n",
    "\n",
    "#Create a function to parse the CC-CEDICT file and build a dictionary for quick lookup:"
   ]
  },
  {
   "cell_type": "code",
   "execution_count": 30,
   "metadata": {},
   "outputs": [],
   "source": [
    "def parse_cedict(file_path):\n",
    "    cedict = {}\n",
    "    with open(file_path, 'r', encoding='utf-8') as f:\n",
    "        for line in f:\n",
    "            if line.startswith('#'):\n",
    "                continue\n",
    "            trad, rest = line.split(' ', 1)\n",
    "            simp, rest = rest.split(' ', 1)\n",
    "            pinyin = rest.split('[', 1)[1].split(']', 1)[0]\n",
    "            english = rest.split('/', 1)[1].rsplit('/', 1)[0]\n",
    "            cedict[simp] = {'traditional': trad, 'pinyin': pinyin, 'english': english}\n",
    "    return cedict\n"
   ]
  },
  {
   "cell_type": "code",
   "execution_count": 31,
   "metadata": {},
   "outputs": [],
   "source": [
    "#Use the parsed dictionary and the pypinyin library to create the CSV:\n",
    "import csv\n",
    "from pypinyin import pinyin, Style\n",
    "\n",
    "def generate_csv(words, cedict, output_file):\n",
    "    with open(output_file, 'w', newline='', encoding='utf-8') as csvfile:\n",
    "        csvwriter = csv.writer(csvfile)\n",
    "        csvwriter.writerow(['Character', 'Pinyin', 'English'])\n",
    "        for word in words:\n",
    "            pinyin_list = pinyin(word, style=Style.TONE3, heteronym=False)\n",
    "            pinyin_str = ' '.join([item[0] for item in pinyin_list])\n",
    "            english_meaning = cedict.get(word, {}).get('english', 'N/A')\n",
    "            csvwriter.writerow([word, pinyin_str, english_meaning])\n",
    "\n"
   ]
  },
  {
   "cell_type": "code",
   "execution_count": 32,
   "metadata": {},
   "outputs": [],
   "source": [
    "#!pip install striprtf\n"
   ]
  },
  {
   "cell_type": "code",
   "execution_count": 33,
   "metadata": {},
   "outputs": [],
   "source": [
    "from striprtf.striprtf import rtf_to_text\n",
    "\n",
    "\n",
    "\n",
    "\n",
    "\n",
    "# Function to remove spaces between Chinese characters\n",
    "def remove_spaces_between_chinese_chars(text):\n",
    "    # Regular expression to match spaces between Chinese characters\n",
    "    pattern = re.compile(r'(?<=[\\u4e00-\\u9fff])\\s+(?=[\\u4e00-\\u9fff])')\n",
    "    # Replace matched patterns with an empty string\n",
    "    cleaned_text = pattern.sub('', text)\n",
    "    return cleaned_text\n",
    "\n",
    "\n",
    "\n"
   ]
  },
  {
   "cell_type": "code",
   "execution_count": 36,
   "metadata": {},
   "outputs": [],
   "source": []
  },
  {
   "cell_type": "code",
   "execution_count": 37,
   "metadata": {},
   "outputs": [
    {
     "name": "stdout",
     "output_type": "stream",
     "text": [
      "捞夜晚井急得叫糟连忙跟老快倒拉住另接越长直最伸刚碰抬喘用故灰帮完车送给您伯包吗翻松以浇捉什饿些再没点吧挑担问哪才能自己钓早晨太阳东弟哥静等话蜻蜓竿已经蝴蝶漂但唉为专心儿停像步动力狐狸窝洞她孩块肉叼站旁乐肚馋流亲羽雀差嗓谁唱歌句意极哇张\n",
      "CSV file 'grade2_unit1.csv' has been generated.\n"
     ]
    }
   ],
   "source": [
    "#Combaine the functions and generate the CSV:\n",
    "\n",
    "if __name__ == \"__main__\":\n",
    "    # Path to your RTF file\n",
    "    filename = 'grade2_unit1'\n",
    "    rtf_file_path = filename+ '.rtf'\n",
    "    # Read and convert RTF to plain text\n",
    "    with open(rtf_file_path, 'r', encoding='utf-8') as file:\n",
    "        rtf_content = file.read()\n",
    "        plain_text = rtf_to_text(rtf_content)\n",
    "# Output the extracted plain text\n",
    "    plain_text  =   remove_spaces_between_chinese_chars(plain_text)\n",
    "    print(plain_text)\n",
    "    cedict_path = 'cedict_ts.u8'  # Update with the actual path to the CEDICT file\n",
    "    cedict = parse_cedict(cedict_path)\n",
    "    \n",
    "    words =   plain_text# Replace with your list of words\n",
    "    output_file = filename + '.csv'\n",
    "    \n",
    "    generate_csv(words, cedict, output_file)\n",
    "    print(f\"CSV file '{output_file}' has been generated.\")\n",
    "\n",
    "\n",
    "\n"
   ]
  },
  {
   "cell_type": "code",
   "execution_count": 35,
   "metadata": {},
   "outputs": [],
   "source": [
    "# attempt to remove the chinese characters in the english column\n",
    "\n",
    "import pandas as pd\n",
    "import re\n",
    "\n",
    "# Load your CSV file (modify the path if needed)\n",
    "df = pd.read_csv(filename + \".csv\")\n",
    "\n",
    "# Function to remove Chinese characters from the English column\n",
    "def remove_chinese_chars(text):\n",
    "    if isinstance(text, str):  # Ensure it's a string\n",
    "        return re.sub(r'[\\u4e00-\\u9fff]+', '', text)  # Remove all Chinese characters\n",
    "    return text  # If not a string, return as is\n",
    "\n",
    "# Apply the function to the English column\n",
    "df[\"English\"] = df[\"English\"].apply(remove_chinese_chars)\n",
    "\n",
    "df.to_csv(filename+ '.csv')"
   ]
  }
 ],
 "metadata": {
  "kernelspec": {
   "display_name": "base",
   "language": "python",
   "name": "python3"
  },
  "language_info": {
   "codemirror_mode": {
    "name": "ipython",
    "version": 3
   },
   "file_extension": ".py",
   "mimetype": "text/x-python",
   "name": "python",
   "nbconvert_exporter": "python",
   "pygments_lexer": "ipython3",
   "version": "3.12.4"
  }
 },
 "nbformat": 4,
 "nbformat_minor": 2
}
